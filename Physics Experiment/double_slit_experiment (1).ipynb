{
  "cells": [
    {
      "cell_type": "markdown",
      "metadata": {
        "id": "0TVWvfAj_BEG"
      },
      "source": [
        "The **double slit experiment** is one of the most fundamental demonstrations of the difference between classical and quantum behavior. In *1803*, **Thomas Young** on his famous paper, \"**Experiments and calculations relative to physical optics**\", first proposed the famous double slit experiment.\n",
        "\n",
        "In the classical world, things are either here or there. A ball goes through one hole or the other – simple. But in the quantum world, particles act like waves and can interfere with themselves. It can behave as if it goes through both slits simultaneously. This results in an interference pattern, even when particles are sent one at a time.\n",
        "\n",
        "In this notebook, we’ll simulate the double slit experiment using **Qiskit**. While we won’t use physical slits or particles, we’ll model the quantum behavior using qubits and quantum gates. This gives us a way to explore how interference and superposition can emerge in a quantum system."
      ]
    },
    {
      "cell_type": "code",
      "execution_count": 1,
      "metadata": {
        "id": "n6uXHjQ0BjHz"
      },
      "outputs": [
        {
          "name": "stdout",
          "output_type": "stream",
          "text": [
            "Defaulting to user installation because normal site-packages is not writeable\n",
            "Requirement already satisfied: qiskit in c:\\users\\iiser13\\appdata\\roaming\\python\\python313\\site-packages (2.1.1)\n",
            "Requirement already satisfied: rustworkx>=0.15.0 in c:\\users\\iiser13\\appdata\\roaming\\python\\python313\\site-packages (from qiskit) (0.16.0)\n",
            "Requirement already satisfied: numpy<3,>=1.17 in c:\\users\\iiser13\\appdata\\roaming\\python\\python313\\site-packages (from qiskit) (2.3.1)\n",
            "Requirement already satisfied: scipy>=1.5 in c:\\users\\iiser13\\appdata\\roaming\\python\\python313\\site-packages (from qiskit) (1.16.0)\n",
            "Requirement already satisfied: dill>=0.3 in c:\\users\\iiser13\\appdata\\roaming\\python\\python313\\site-packages (from qiskit) (0.4.0)\n",
            "Requirement already satisfied: stevedore>=3.0.0 in c:\\users\\iiser13\\appdata\\roaming\\python\\python313\\site-packages (from qiskit) (5.4.1)\n",
            "Requirement already satisfied: typing-extensions in c:\\users\\iiser13\\appdata\\roaming\\python\\python313\\site-packages (from qiskit) (4.14.1)\n",
            "Requirement already satisfied: pbr>=2.0.0 in c:\\users\\iiser13\\appdata\\roaming\\python\\python313\\site-packages (from stevedore>=3.0.0->qiskit) (6.1.1)\n",
            "Requirement already satisfied: setuptools in c:\\users\\iiser13\\appdata\\roaming\\python\\python313\\site-packages (from pbr>=2.0.0->stevedore>=3.0.0->qiskit) (80.9.0)\n",
            "Note: you may need to restart the kernel to use updated packages.\n",
            "Defaulting to user installation because normal site-packages is not writeable\n",
            "Collecting qiskit-aer\n",
            "  Downloading qiskit_aer-0.17.1-cp313-cp313-win_amd64.whl.metadata (8.5 kB)\n",
            "Requirement already satisfied: qiskit>=1.1.0 in c:\\users\\iiser13\\appdata\\roaming\\python\\python313\\site-packages (from qiskit-aer) (2.1.1)\n",
            "Requirement already satisfied: numpy>=1.16.3 in c:\\users\\iiser13\\appdata\\roaming\\python\\python313\\site-packages (from qiskit-aer) (2.3.1)\n",
            "Requirement already satisfied: scipy>=1.0 in c:\\users\\iiser13\\appdata\\roaming\\python\\python313\\site-packages (from qiskit-aer) (1.16.0)\n",
            "Requirement already satisfied: psutil>=5 in c:\\users\\iiser13\\appdata\\roaming\\python\\python313\\site-packages (from qiskit-aer) (7.0.0)\n",
            "Requirement already satisfied: python-dateutil>=2.8.0 in c:\\users\\iiser13\\appdata\\roaming\\python\\python313\\site-packages (from qiskit-aer) (2.9.0.post0)\n",
            "Requirement already satisfied: six>=1.5 in c:\\users\\iiser13\\appdata\\roaming\\python\\python313\\site-packages (from python-dateutil>=2.8.0->qiskit-aer) (1.17.0)\n",
            "Requirement already satisfied: rustworkx>=0.15.0 in c:\\users\\iiser13\\appdata\\roaming\\python\\python313\\site-packages (from qiskit>=1.1.0->qiskit-aer) (0.16.0)\n",
            "Requirement already satisfied: dill>=0.3 in c:\\users\\iiser13\\appdata\\roaming\\python\\python313\\site-packages (from qiskit>=1.1.0->qiskit-aer) (0.4.0)\n",
            "Requirement already satisfied: stevedore>=3.0.0 in c:\\users\\iiser13\\appdata\\roaming\\python\\python313\\site-packages (from qiskit>=1.1.0->qiskit-aer) (5.4.1)\n",
            "Requirement already satisfied: typing-extensions in c:\\users\\iiser13\\appdata\\roaming\\python\\python313\\site-packages (from qiskit>=1.1.0->qiskit-aer) (4.14.1)\n",
            "Requirement already satisfied: pbr>=2.0.0 in c:\\users\\iiser13\\appdata\\roaming\\python\\python313\\site-packages (from stevedore>=3.0.0->qiskit>=1.1.0->qiskit-aer) (6.1.1)\n",
            "Requirement already satisfied: setuptools in c:\\users\\iiser13\\appdata\\roaming\\python\\python313\\site-packages (from pbr>=2.0.0->stevedore>=3.0.0->qiskit>=1.1.0->qiskit-aer) (80.9.0)\n",
            "Downloading qiskit_aer-0.17.1-cp313-cp313-win_amd64.whl (9.5 MB)\n",
            "   ---------------------------------------- 0.0/9.5 MB ? eta -:--:--\n",
            "   ---------------------------------------- 0.0/9.5 MB ? eta -:--:--\n",
            "   - -------------------------------------- 0.3/9.5 MB ? eta -:--:--\n",
            "   -- ------------------------------------- 0.5/9.5 MB 1.3 MB/s eta 0:00:08\n",
            "   --- ------------------------------------ 0.8/9.5 MB 1.5 MB/s eta 0:00:06\n",
            "   ----- ---------------------------------- 1.3/9.5 MB 1.6 MB/s eta 0:00:06\n",
            "   ------ --------------------------------- 1.6/9.5 MB 1.7 MB/s eta 0:00:05\n",
            "   -------- ------------------------------- 2.1/9.5 MB 1.7 MB/s eta 0:00:05\n",
            "   -------- ------------------------------- 2.1/9.5 MB 1.7 MB/s eta 0:00:05\n",
            "   -------- ------------------------------- 2.1/9.5 MB 1.7 MB/s eta 0:00:05\n",
            "   ----------- ---------------------------- 2.6/9.5 MB 1.4 MB/s eta 0:00:05\n",
            "   ------------- -------------------------- 3.1/9.5 MB 1.5 MB/s eta 0:00:05\n",
            "   --------------- ------------------------ 3.7/9.5 MB 1.6 MB/s eta 0:00:04\n",
            "   ----------------- ---------------------- 4.2/9.5 MB 1.7 MB/s eta 0:00:04\n",
            "   ------------------- -------------------- 4.7/9.5 MB 1.8 MB/s eta 0:00:03\n",
            "   ---------------------- ----------------- 5.2/9.5 MB 1.8 MB/s eta 0:00:03\n",
            "   ------------------------- -------------- 6.0/9.5 MB 1.9 MB/s eta 0:00:02\n",
            "   ---------------------------- ----------- 6.8/9.5 MB 2.1 MB/s eta 0:00:02\n",
            "   ------------------------------- -------- 7.6/9.5 MB 2.2 MB/s eta 0:00:01\n",
            "   ---------------------------------- ----- 8.1/9.5 MB 2.2 MB/s eta 0:00:01\n",
            "   ------------------------------------- -- 8.9/9.5 MB 2.3 MB/s eta 0:00:01\n",
            "   ---------------------------------------- 9.5/9.5 MB 2.3 MB/s eta 0:00:00\n",
            "Installing collected packages: qiskit-aer\n",
            "Successfully installed qiskit-aer-0.17.1\n",
            "Note: you may need to restart the kernel to use updated packages.\n"
          ]
        }
      ],
      "source": [
        "%pip install qiskit\n",
        "%pip install qiskit-aer"
      ]
    },
    {
      "cell_type": "code",
      "execution_count": 2,
      "metadata": {
        "id": "kmo5q70z82a2"
      },
      "outputs": [
        {
          "name": "stdout",
          "output_type": "stream",
          "text": [
            "Defaulting to user installation because normal site-packages is not writeable\n",
            "Collecting pylatexenc\n",
            "  Downloading pylatexenc-2.10.tar.gz (162 kB)\n",
            "  Installing build dependencies: started\n",
            "  Installing build dependencies: finished with status 'done'\n",
            "  Getting requirements to build wheel: started\n",
            "  Getting requirements to build wheel: finished with status 'done'\n",
            "  Preparing metadata (pyproject.toml): started\n",
            "  Preparing metadata (pyproject.toml): finished with status 'done'\n",
            "Building wheels for collected packages: pylatexenc\n",
            "  Building wheel for pylatexenc (pyproject.toml): started\n",
            "  Building wheel for pylatexenc (pyproject.toml): finished with status 'done'\n",
            "  Created wheel for pylatexenc: filename=pylatexenc-2.10-py3-none-any.whl size=136928 sha256=a7c97fbe2bef7a5426e8716d560d4395ae14408673a9e540edb98db7c74cf486\n",
            "  Stored in directory: c:\\users\\iiser13\\appdata\\local\\pip\\cache\\wheels\\3c\\d9\\c1\\bb2a15d13c742b9035ef7ae6ebe236af270b1d1d9b386dcd5e\n",
            "Successfully built pylatexenc\n",
            "Installing collected packages: pylatexenc\n",
            "Successfully installed pylatexenc-2.10\n",
            "Note: you may need to restart the kernel to use updated packages.\n"
          ]
        }
      ],
      "source": [
        "%pip install pylatexenc"
      ]
    },
    {
      "cell_type": "code",
      "execution_count": 4,
      "metadata": {},
      "outputs": [
        {
          "name": "stdout",
          "output_type": "stream",
          "text": [
            "Defaulting to user installation because normal site-packages is not writeable\n",
            "Collecting matplotlib\n",
            "  Downloading matplotlib-3.10.3-cp313-cp313-win_amd64.whl.metadata (11 kB)\n",
            "Collecting contourpy>=1.0.1 (from matplotlib)\n",
            "  Downloading contourpy-1.3.2-cp313-cp313-win_amd64.whl.metadata (5.5 kB)\n",
            "Collecting cycler>=0.10 (from matplotlib)\n",
            "  Downloading cycler-0.12.1-py3-none-any.whl.metadata (3.8 kB)\n",
            "Collecting fonttools>=4.22.0 (from matplotlib)\n",
            "  Downloading fonttools-4.59.0-cp313-cp313-win_amd64.whl.metadata (110 kB)\n",
            "Collecting kiwisolver>=1.3.1 (from matplotlib)\n",
            "  Downloading kiwisolver-1.4.8-cp313-cp313-win_amd64.whl.metadata (6.3 kB)\n",
            "Requirement already satisfied: numpy>=1.23 in c:\\users\\iiser13\\appdata\\roaming\\python\\python313\\site-packages (from matplotlib) (2.3.1)\n",
            "Requirement already satisfied: packaging>=20.0 in c:\\users\\iiser13\\appdata\\roaming\\python\\python313\\site-packages (from matplotlib) (25.0)\n",
            "Collecting pillow>=8 (from matplotlib)\n",
            "  Downloading pillow-11.3.0-cp313-cp313-win_amd64.whl.metadata (9.2 kB)\n",
            "Collecting pyparsing>=2.3.1 (from matplotlib)\n",
            "  Downloading pyparsing-3.2.3-py3-none-any.whl.metadata (5.0 kB)\n",
            "Requirement already satisfied: python-dateutil>=2.7 in c:\\users\\iiser13\\appdata\\roaming\\python\\python313\\site-packages (from matplotlib) (2.9.0.post0)\n",
            "Requirement already satisfied: six>=1.5 in c:\\users\\iiser13\\appdata\\roaming\\python\\python313\\site-packages (from python-dateutil>=2.7->matplotlib) (1.17.0)\n",
            "Downloading matplotlib-3.10.3-cp313-cp313-win_amd64.whl (8.1 MB)\n",
            "   ---------------------------------------- 0.0/8.1 MB ? eta -:--:--\n",
            "   --- ------------------------------------ 0.8/8.1 MB 5.2 MB/s eta 0:00:02\n",
            "   --------- ------------------------------ 1.8/8.1 MB 5.3 MB/s eta 0:00:02\n",
            "   -------------- ------------------------- 2.9/8.1 MB 5.1 MB/s eta 0:00:02\n",
            "   -------------------- ------------------- 4.2/8.1 MB 5.6 MB/s eta 0:00:01\n",
            "   --------------------------- ------------ 5.5/8.1 MB 5.6 MB/s eta 0:00:01\n",
            "   ----------------------------------- ---- 7.1/8.1 MB 5.9 MB/s eta 0:00:01\n",
            "   ---------------------------------------- 8.1/8.1 MB 5.9 MB/s eta 0:00:00\n",
            "Downloading contourpy-1.3.2-cp313-cp313-win_amd64.whl (223 kB)\n",
            "Downloading cycler-0.12.1-py3-none-any.whl (8.3 kB)\n",
            "Downloading fonttools-4.59.0-cp313-cp313-win_amd64.whl (2.2 MB)\n",
            "   ---------------------------------------- 0.0/2.2 MB ? eta -:--:--\n",
            "   ----------------------- ---------------- 1.3/2.2 MB 6.8 MB/s eta 0:00:01\n",
            "   ---------------------------------------- 2.2/2.2 MB 6.1 MB/s eta 0:00:00\n",
            "Downloading kiwisolver-1.4.8-cp313-cp313-win_amd64.whl (71 kB)\n",
            "Downloading pillow-11.3.0-cp313-cp313-win_amd64.whl (7.0 MB)\n",
            "   ---------------------------------------- 0.0/7.0 MB ? eta -:--:--\n",
            "   ------ --------------------------------- 1.0/7.0 MB 7.2 MB/s eta 0:00:01\n",
            "   ------------- -------------------------- 2.4/7.0 MB 6.0 MB/s eta 0:00:01\n",
            "   ---------------------- ----------------- 3.9/7.0 MB 6.3 MB/s eta 0:00:01\n",
            "   ------------------------------ --------- 5.2/7.0 MB 6.5 MB/s eta 0:00:01\n",
            "   ---------------------------------------  6.8/7.0 MB 6.6 MB/s eta 0:00:01\n",
            "   ---------------------------------------- 7.0/7.0 MB 6.4 MB/s eta 0:00:00\n",
            "Downloading pyparsing-3.2.3-py3-none-any.whl (111 kB)\n",
            "Installing collected packages: pyparsing, pillow, kiwisolver, fonttools, cycler, contourpy, matplotlib\n",
            "\n",
            "   ---------------------------------------- 0/7 [pyparsing]\n",
            "   ---------------------------------------- 0/7 [pyparsing]\n",
            "   ----- ---------------------------------- 1/7 [pillow]\n",
            "   ----- ---------------------------------- 1/7 [pillow]\n",
            "   ----- ---------------------------------- 1/7 [pillow]\n",
            "   ----- ---------------------------------- 1/7 [pillow]\n",
            "   ----- ---------------------------------- 1/7 [pillow]\n",
            "   ----- ---------------------------------- 1/7 [pillow]\n",
            "   ----- ---------------------------------- 1/7 [pillow]\n",
            "   ----- ---------------------------------- 1/7 [pillow]\n",
            "   ----- ---------------------------------- 1/7 [pillow]\n",
            "   ----- ---------------------------------- 1/7 [pillow]\n",
            "   ----- ---------------------------------- 1/7 [pillow]\n",
            "   ----- ---------------------------------- 1/7 [pillow]\n",
            "   ----- ---------------------------------- 1/7 [pillow]\n",
            "   ----- ---------------------------------- 1/7 [pillow]\n",
            "   ----- ---------------------------------- 1/7 [pillow]\n",
            "   ----- ---------------------------------- 1/7 [pillow]\n",
            "   ----------------- ---------------------- 3/7 [fonttools]\n",
            "   ----------------- ---------------------- 3/7 [fonttools]\n",
            "   ----------------- ---------------------- 3/7 [fonttools]\n",
            "   ----------------- ---------------------- 3/7 [fonttools]\n",
            "   ----------------- ---------------------- 3/7 [fonttools]\n",
            "   ----------------- ---------------------- 3/7 [fonttools]\n",
            "   ----------------- ---------------------- 3/7 [fonttools]\n",
            "   ----------------- ---------------------- 3/7 [fonttools]\n",
            "   ----------------- ---------------------- 3/7 [fonttools]\n",
            "   ----------------- ---------------------- 3/7 [fonttools]\n",
            "   ----------------- ---------------------- 3/7 [fonttools]\n",
            "   ----------------- ---------------------- 3/7 [fonttools]\n",
            "   ----------------- ---------------------- 3/7 [fonttools]\n",
            "   ----------------- ---------------------- 3/7 [fonttools]\n",
            "   ----------------- ---------------------- 3/7 [fonttools]\n",
            "   ----------------- ---------------------- 3/7 [fonttools]\n",
            "   ----------------- ---------------------- 3/7 [fonttools]\n",
            "   ----------------- ---------------------- 3/7 [fonttools]\n",
            "   ----------------- ---------------------- 3/7 [fonttools]\n",
            "   ----------------- ---------------------- 3/7 [fonttools]\n",
            "   ----------------- ---------------------- 3/7 [fonttools]\n",
            "   ----------------- ---------------------- 3/7 [fonttools]\n",
            "   ----------------- ---------------------- 3/7 [fonttools]\n",
            "   ----------------- ---------------------- 3/7 [fonttools]\n",
            "   ----------------- ---------------------- 3/7 [fonttools]\n",
            "   ----------------- ---------------------- 3/7 [fonttools]\n",
            "   ----------------- ---------------------- 3/7 [fonttools]\n",
            "   ----------------- ---------------------- 3/7 [fonttools]\n",
            "   ----------------- ---------------------- 3/7 [fonttools]\n",
            "   ----------------- ---------------------- 3/7 [fonttools]\n",
            "   ----------------- ---------------------- 3/7 [fonttools]\n",
            "   ----------------- ---------------------- 3/7 [fonttools]\n",
            "   ----------------- ---------------------- 3/7 [fonttools]\n",
            "   ----------------- ---------------------- 3/7 [fonttools]\n",
            "   ----------------- ---------------------- 3/7 [fonttools]\n",
            "   ----------------- ---------------------- 3/7 [fonttools]\n",
            "   ----------------- ---------------------- 3/7 [fonttools]\n",
            "   ----------------- ---------------------- 3/7 [fonttools]\n",
            "   ----------------- ---------------------- 3/7 [fonttools]\n",
            "   ----------------- ---------------------- 3/7 [fonttools]\n",
            "   ----------------- ---------------------- 3/7 [fonttools]\n",
            "   ----------------- ---------------------- 3/7 [fonttools]\n",
            "   ----------------- ---------------------- 3/7 [fonttools]\n",
            "   ----------------- ---------------------- 3/7 [fonttools]\n",
            "   ----------------- ---------------------- 3/7 [fonttools]\n",
            "   ----------------- ---------------------- 3/7 [fonttools]\n",
            "   ----------------- ---------------------- 3/7 [fonttools]\n",
            "   ----------------- ---------------------- 3/7 [fonttools]\n",
            "   ----------------- ---------------------- 3/7 [fonttools]\n",
            "   ----------------- ---------------------- 3/7 [fonttools]\n",
            "   ----------------- ---------------------- 3/7 [fonttools]\n",
            "   ----------------- ---------------------- 3/7 [fonttools]\n",
            "   ----------------- ---------------------- 3/7 [fonttools]\n",
            "   ----------------- ---------------------- 3/7 [fonttools]\n",
            "   ----------------- ---------------------- 3/7 [fonttools]\n",
            "   ----------------- ---------------------- 3/7 [fonttools]\n",
            "   ---------------------- ----------------- 4/7 [cycler]\n",
            "   ---------------------------- ----------- 5/7 [contourpy]\n",
            "   ---------------------------- ----------- 5/7 [contourpy]\n",
            "   ---------------------------------- ----- 6/7 [matplotlib]\n",
            "   ---------------------------------- ----- 6/7 [matplotlib]\n",
            "   ---------------------------------- ----- 6/7 [matplotlib]\n",
            "   ---------------------------------- ----- 6/7 [matplotlib]\n",
            "   ---------------------------------- ----- 6/7 [matplotlib]\n",
            "   ---------------------------------- ----- 6/7 [matplotlib]\n",
            "   ---------------------------------- ----- 6/7 [matplotlib]\n",
            "   ---------------------------------- ----- 6/7 [matplotlib]\n",
            "   ---------------------------------- ----- 6/7 [matplotlib]\n",
            "   ---------------------------------- ----- 6/7 [matplotlib]\n",
            "   ---------------------------------- ----- 6/7 [matplotlib]\n",
            "   ---------------------------------- ----- 6/7 [matplotlib]\n",
            "   ---------------------------------- ----- 6/7 [matplotlib]\n",
            "   ---------------------------------- ----- 6/7 [matplotlib]\n",
            "   ---------------------------------- ----- 6/7 [matplotlib]\n",
            "   ---------------------------------- ----- 6/7 [matplotlib]\n",
            "   ---------------------------------- ----- 6/7 [matplotlib]\n",
            "   ---------------------------------- ----- 6/7 [matplotlib]\n",
            "   ---------------------------------- ----- 6/7 [matplotlib]\n",
            "   ---------------------------------- ----- 6/7 [matplotlib]\n",
            "   ---------------------------------- ----- 6/7 [matplotlib]\n",
            "   ---------------------------------- ----- 6/7 [matplotlib]\n",
            "   ---------------------------------- ----- 6/7 [matplotlib]\n",
            "   ---------------------------------- ----- 6/7 [matplotlib]\n",
            "   ---------------------------------- ----- 6/7 [matplotlib]\n",
            "   ---------------------------------- ----- 6/7 [matplotlib]\n",
            "   ---------------------------------- ----- 6/7 [matplotlib]\n",
            "   ---------------------------------- ----- 6/7 [matplotlib]\n",
            "   ---------------------------------- ----- 6/7 [matplotlib]\n",
            "   ---------------------------------- ----- 6/7 [matplotlib]\n",
            "   ---------------------------------- ----- 6/7 [matplotlib]\n",
            "   ---------------------------------- ----- 6/7 [matplotlib]\n",
            "   ---------------------------------- ----- 6/7 [matplotlib]\n",
            "   ---------------------------------- ----- 6/7 [matplotlib]\n",
            "   ---------------------------------- ----- 6/7 [matplotlib]\n",
            "   ---------------------------------- ----- 6/7 [matplotlib]\n",
            "   ---------------------------------- ----- 6/7 [matplotlib]\n",
            "   ---------------------------------- ----- 6/7 [matplotlib]\n",
            "   ---------------------------------- ----- 6/7 [matplotlib]\n",
            "   ---------------------------------- ----- 6/7 [matplotlib]\n",
            "   ---------------------------------- ----- 6/7 [matplotlib]\n",
            "   ---------------------------------- ----- 6/7 [matplotlib]\n",
            "   ---------------------------------- ----- 6/7 [matplotlib]\n",
            "   ---------------------------------- ----- 6/7 [matplotlib]\n",
            "   ---------------------------------- ----- 6/7 [matplotlib]\n",
            "   ---------------------------------- ----- 6/7 [matplotlib]\n",
            "   ---------------------------------- ----- 6/7 [matplotlib]\n",
            "   ---------------------------------- ----- 6/7 [matplotlib]\n",
            "   ---------------------------------- ----- 6/7 [matplotlib]\n",
            "   ---------------------------------- ----- 6/7 [matplotlib]\n",
            "   ---------------------------------- ----- 6/7 [matplotlib]\n",
            "   ---------------------------------- ----- 6/7 [matplotlib]\n",
            "   ---------------------------------- ----- 6/7 [matplotlib]\n",
            "   ---------------------------------- ----- 6/7 [matplotlib]\n",
            "   ---------------------------------- ----- 6/7 [matplotlib]\n",
            "   ---------------------------------- ----- 6/7 [matplotlib]\n",
            "   ---------------------------------- ----- 6/7 [matplotlib]\n",
            "   ---------------------------------------- 7/7 [matplotlib]\n",
            "\n",
            "Successfully installed contourpy-1.3.2 cycler-0.12.1 fonttools-4.59.0 kiwisolver-1.4.8 matplotlib-3.10.3 pillow-11.3.0 pyparsing-3.2.3\n",
            "Note: you may need to restart the kernel to use updated packages.\n"
          ]
        }
      ],
      "source": [
        "%pip install matplotlib"
      ]
    },
    {
      "cell_type": "code",
      "execution_count": 16,
      "metadata": {},
      "outputs": [
        {
          "name": "stdout",
          "output_type": "stream",
          "text": [
            "Defaulting to user installation because normal site-packages is not writeable\n",
            "Collecting qiskit-ibm-runtime\n",
            "  Downloading qiskit_ibm_runtime-0.40.1-py3-none-any.whl.metadata (21 kB)\n",
            "Collecting requests>=2.19 (from qiskit-ibm-runtime)\n",
            "  Downloading requests-2.32.4-py3-none-any.whl.metadata (4.9 kB)\n",
            "Collecting requests-ntlm>=1.1.0 (from qiskit-ibm-runtime)\n",
            "  Downloading requests_ntlm-1.3.0-py3-none-any.whl.metadata (2.4 kB)\n",
            "Requirement already satisfied: numpy>=1.13 in c:\\users\\iiser13\\appdata\\roaming\\python\\python313\\site-packages (from qiskit-ibm-runtime) (2.3.1)\n",
            "Collecting urllib3>=1.21.1 (from qiskit-ibm-runtime)\n",
            "  Downloading urllib3-2.5.0-py3-none-any.whl.metadata (6.5 kB)\n",
            "Requirement already satisfied: python-dateutil>=2.8.0 in c:\\users\\iiser13\\appdata\\roaming\\python\\python313\\site-packages (from qiskit-ibm-runtime) (2.9.0.post0)\n",
            "Collecting ibm-platform-services>=0.22.6 (from qiskit-ibm-runtime)\n",
            "  Downloading ibm_platform_services-0.68.1-py3-none-any.whl.metadata (9.0 kB)\n",
            "Collecting pydantic>=2.5.0 (from qiskit-ibm-runtime)\n",
            "  Downloading pydantic-2.11.7-py3-none-any.whl.metadata (67 kB)\n",
            "Requirement already satisfied: qiskit>=1.4.1 in c:\\users\\iiser13\\appdata\\roaming\\python\\python313\\site-packages (from qiskit-ibm-runtime) (2.1.1)\n",
            "Requirement already satisfied: packaging in c:\\users\\iiser13\\appdata\\roaming\\python\\python313\\site-packages (from qiskit-ibm-runtime) (25.0)\n",
            "Collecting ibm_cloud_sdk_core<4.0.0,>=3.24.2 (from ibm-platform-services>=0.22.6->qiskit-ibm-runtime)\n",
            "  Downloading ibm_cloud_sdk_core-3.24.2-py3-none-any.whl.metadata (8.7 kB)\n",
            "Collecting PyJWT<3.0.0,>=2.10.1 (from ibm_cloud_sdk_core<4.0.0,>=3.24.2->ibm-platform-services>=0.22.6->qiskit-ibm-runtime)\n",
            "  Downloading PyJWT-2.10.1-py3-none-any.whl.metadata (4.0 kB)\n",
            "Requirement already satisfied: six>=1.5 in c:\\users\\iiser13\\appdata\\roaming\\python\\python313\\site-packages (from python-dateutil>=2.8.0->qiskit-ibm-runtime) (1.17.0)\n",
            "Collecting charset_normalizer<4,>=2 (from requests>=2.19->qiskit-ibm-runtime)\n",
            "  Downloading charset_normalizer-3.4.2-cp313-cp313-win_amd64.whl.metadata (36 kB)\n",
            "Collecting idna<4,>=2.5 (from requests>=2.19->qiskit-ibm-runtime)\n",
            "  Using cached idna-3.10-py3-none-any.whl.metadata (10 kB)\n",
            "Collecting certifi>=2017.4.17 (from requests>=2.19->qiskit-ibm-runtime)\n",
            "  Using cached certifi-2025.7.14-py3-none-any.whl.metadata (2.4 kB)\n",
            "Collecting annotated-types>=0.6.0 (from pydantic>=2.5.0->qiskit-ibm-runtime)\n",
            "  Downloading annotated_types-0.7.0-py3-none-any.whl.metadata (15 kB)\n",
            "Collecting pydantic-core==2.33.2 (from pydantic>=2.5.0->qiskit-ibm-runtime)\n",
            "  Downloading pydantic_core-2.33.2-cp313-cp313-win_amd64.whl.metadata (6.9 kB)\n",
            "Requirement already satisfied: typing-extensions>=4.12.2 in c:\\users\\iiser13\\appdata\\roaming\\python\\python313\\site-packages (from pydantic>=2.5.0->qiskit-ibm-runtime) (4.14.1)\n",
            "Collecting typing-inspection>=0.4.0 (from pydantic>=2.5.0->qiskit-ibm-runtime)\n",
            "  Downloading typing_inspection-0.4.1-py3-none-any.whl.metadata (2.6 kB)\n",
            "Requirement already satisfied: rustworkx>=0.15.0 in c:\\users\\iiser13\\appdata\\roaming\\python\\python313\\site-packages (from qiskit>=1.4.1->qiskit-ibm-runtime) (0.16.0)\n",
            "Requirement already satisfied: scipy>=1.5 in c:\\users\\iiser13\\appdata\\roaming\\python\\python313\\site-packages (from qiskit>=1.4.1->qiskit-ibm-runtime) (1.16.0)\n",
            "Requirement already satisfied: dill>=0.3 in c:\\users\\iiser13\\appdata\\roaming\\python\\python313\\site-packages (from qiskit>=1.4.1->qiskit-ibm-runtime) (0.4.0)\n",
            "Requirement already satisfied: stevedore>=3.0.0 in c:\\users\\iiser13\\appdata\\roaming\\python\\python313\\site-packages (from qiskit>=1.4.1->qiskit-ibm-runtime) (5.4.1)\n",
            "Collecting cryptography>=1.3 (from requests-ntlm>=1.1.0->qiskit-ibm-runtime)\n",
            "  Downloading cryptography-45.0.5-cp311-abi3-win_amd64.whl.metadata (5.7 kB)\n",
            "Collecting pyspnego>=0.4.0 (from requests-ntlm>=1.1.0->qiskit-ibm-runtime)\n",
            "  Downloading pyspnego-0.11.2-py3-none-any.whl.metadata (5.4 kB)\n",
            "Collecting cffi>=1.14 (from cryptography>=1.3->requests-ntlm>=1.1.0->qiskit-ibm-runtime)\n",
            "  Downloading cffi-1.17.1-cp313-cp313-win_amd64.whl.metadata (1.6 kB)\n",
            "Collecting pycparser (from cffi>=1.14->cryptography>=1.3->requests-ntlm>=1.1.0->qiskit-ibm-runtime)\n",
            "  Downloading pycparser-2.22-py3-none-any.whl.metadata (943 bytes)\n",
            "Collecting sspilib>=0.1.0 (from pyspnego>=0.4.0->requests-ntlm>=1.1.0->qiskit-ibm-runtime)\n",
            "  Downloading sspilib-0.3.1-cp313-cp313-win_amd64.whl.metadata (6.2 kB)\n",
            "Requirement already satisfied: pbr>=2.0.0 in c:\\users\\iiser13\\appdata\\roaming\\python\\python313\\site-packages (from stevedore>=3.0.0->qiskit>=1.4.1->qiskit-ibm-runtime) (6.1.1)\n",
            "Requirement already satisfied: setuptools in c:\\users\\iiser13\\appdata\\roaming\\python\\python313\\site-packages (from pbr>=2.0.0->stevedore>=3.0.0->qiskit>=1.4.1->qiskit-ibm-runtime) (80.9.0)\n",
            "Downloading qiskit_ibm_runtime-0.40.1-py3-none-any.whl (3.2 MB)\n",
            "   ---------------------------------------- 0.0/3.2 MB ? eta -:--:--\n",
            "   ---------------------------------------- 0.0/3.2 MB ? eta -:--:--\n",
            "   --- ------------------------------------ 0.3/3.2 MB ? eta -:--:--\n",
            "   --- ------------------------------------ 0.3/3.2 MB ? eta -:--:--\n",
            "   ------ --------------------------------- 0.5/3.2 MB 845.8 kB/s eta 0:00:04\n",
            "   --------- ------------------------------ 0.8/3.2 MB 885.5 kB/s eta 0:00:03\n",
            "   ------------- -------------------------- 1.0/3.2 MB 938.6 kB/s eta 0:00:03\n",
            "   ---------------- ----------------------- 1.3/3.2 MB 963.7 kB/s eta 0:00:02\n",
            "   ---------------- ----------------------- 1.3/3.2 MB 963.7 kB/s eta 0:00:02\n",
            "   ------------------- -------------------- 1.6/3.2 MB 992.8 kB/s eta 0:00:02\n",
            "   -------------------------- ------------- 2.1/3.2 MB 1.1 MB/s eta 0:00:02\n",
            "   ----------------------------- ---------- 2.4/3.2 MB 1.1 MB/s eta 0:00:01\n",
            "   -------------------------------- ------- 2.6/3.2 MB 1.1 MB/s eta 0:00:01\n",
            "   ------------------------------------ --- 2.9/3.2 MB 1.2 MB/s eta 0:00:01\n",
            "   ---------------------------------------- 3.2/3.2 MB 1.2 MB/s eta 0:00:00\n",
            "Downloading ibm_platform_services-0.68.1-py3-none-any.whl (366 kB)\n",
            "Downloading ibm_cloud_sdk_core-3.24.2-py3-none-any.whl (75 kB)\n",
            "Downloading PyJWT-2.10.1-py3-none-any.whl (22 kB)\n",
            "Downloading requests-2.32.4-py3-none-any.whl (64 kB)\n",
            "Downloading charset_normalizer-3.4.2-cp313-cp313-win_amd64.whl (105 kB)\n",
            "Using cached idna-3.10-py3-none-any.whl (70 kB)\n",
            "Downloading urllib3-2.5.0-py3-none-any.whl (129 kB)\n",
            "Using cached certifi-2025.7.14-py3-none-any.whl (162 kB)\n",
            "Downloading pydantic-2.11.7-py3-none-any.whl (444 kB)\n",
            "Downloading pydantic_core-2.33.2-cp313-cp313-win_amd64.whl (2.0 MB)\n",
            "   ---------------------------------------- 0.0/2.0 MB ? eta -:--:--\n",
            "   ----- ---------------------------------- 0.3/2.0 MB ? eta -:--:--\n",
            "   ---------- ----------------------------- 0.5/2.0 MB 1.8 MB/s eta 0:00:01\n",
            "   --------------------- ------------------ 1.0/2.0 MB 1.9 MB/s eta 0:00:01\n",
            "   -------------------------------- ------- 1.6/2.0 MB 1.9 MB/s eta 0:00:01\n",
            "   ------------------------------------- -- 1.8/2.0 MB 1.9 MB/s eta 0:00:01\n",
            "   ---------------------------------------- 2.0/2.0 MB 1.9 MB/s eta 0:00:00\n",
            "Downloading annotated_types-0.7.0-py3-none-any.whl (13 kB)\n",
            "Downloading requests_ntlm-1.3.0-py3-none-any.whl (6.6 kB)\n",
            "Downloading cryptography-45.0.5-cp311-abi3-win_amd64.whl (3.4 MB)\n",
            "   ---------------------------------------- 0.0/3.4 MB ? eta -:--:--\n",
            "   --- ------------------------------------ 0.3/3.4 MB ? eta -:--:--\n",
            "   --------- ------------------------------ 0.8/3.4 MB 2.2 MB/s eta 0:00:02\n",
            "   ------------ --------------------------- 1.0/3.4 MB 2.2 MB/s eta 0:00:02\n",
            "   --------------- ------------------------ 1.3/3.4 MB 2.1 MB/s eta 0:00:01\n",
            "   ------------------ --------------------- 1.6/3.4 MB 1.8 MB/s eta 0:00:02\n",
            "   ------------------ --------------------- 1.6/3.4 MB 1.8 MB/s eta 0:00:02\n",
            "   ------------------ --------------------- 1.6/3.4 MB 1.8 MB/s eta 0:00:02\n",
            "   --------------------- ------------------ 1.8/3.4 MB 1.2 MB/s eta 0:00:02\n",
            "   --------------------- ------------------ 1.8/3.4 MB 1.2 MB/s eta 0:00:02\n",
            "   --------------------- ------------------ 1.8/3.4 MB 1.2 MB/s eta 0:00:02\n",
            "   --------------------- ------------------ 1.8/3.4 MB 1.2 MB/s eta 0:00:02\n",
            "   --------------------- ------------------ 1.8/3.4 MB 1.2 MB/s eta 0:00:02\n",
            "   --------------------- ------------------ 1.8/3.4 MB 1.2 MB/s eta 0:00:02\n",
            "   --------------------- ------------------ 1.8/3.4 MB 1.2 MB/s eta 0:00:02\n",
            "   --------------------- ------------------ 1.8/3.4 MB 1.2 MB/s eta 0:00:02\n",
            "   ------------------------ --------------- 2.1/3.4 MB 605.1 kB/s eta 0:00:03\n",
            "   ------------------------ --------------- 2.1/3.4 MB 605.1 kB/s eta 0:00:03\n",
            "   ------------------------ --------------- 2.1/3.4 MB 605.1 kB/s eta 0:00:03\n",
            "   ------------------------ --------------- 2.1/3.4 MB 605.1 kB/s eta 0:00:03\n",
            "   ------------------------ --------------- 2.1/3.4 MB 605.1 kB/s eta 0:00:03\n",
            "   ------------------------ --------------- 2.1/3.4 MB 605.1 kB/s eta 0:00:03\n",
            "   ------------------------ --------------- 2.1/3.4 MB 605.1 kB/s eta 0:00:03\n",
            "   --------------------------- ------------ 2.4/3.4 MB 461.1 kB/s eta 0:00:03\n",
            "   --------------------------- ------------ 2.4/3.4 MB 461.1 kB/s eta 0:00:03\n",
            "   --------------------------- ------------ 2.4/3.4 MB 461.1 kB/s eta 0:00:03\n",
            "   --------------------------- ------------ 2.4/3.4 MB 461.1 kB/s eta 0:00:03\n",
            "   --------------------------- ------------ 2.4/3.4 MB 461.1 kB/s eta 0:00:03\n",
            "   ------------------------------ --------- 2.6/3.4 MB 411.6 kB/s eta 0:00:02\n",
            "   ------------------------------ --------- 2.6/3.4 MB 411.6 kB/s eta 0:00:02\n",
            "   ------------------------------ --------- 2.6/3.4 MB 411.6 kB/s eta 0:00:02\n",
            "   ------------------------------ --------- 2.6/3.4 MB 411.6 kB/s eta 0:00:02\n",
            "   ------------------------------ --------- 2.6/3.4 MB 411.6 kB/s eta 0:00:02\n",
            "   ------------------------------ --------- 2.6/3.4 MB 411.6 kB/s eta 0:00:02\n",
            "   --------------------------------- ------ 2.9/3.4 MB 380.7 kB/s eta 0:00:02\n",
            "   --------------------------------- ------ 2.9/3.4 MB 380.7 kB/s eta 0:00:02\n",
            "   --------------------------------- ------ 2.9/3.4 MB 380.7 kB/s eta 0:00:02\n",
            "   --------------------------------- ------ 2.9/3.4 MB 380.7 kB/s eta 0:00:02\n",
            "   --------------------------------- ------ 2.9/3.4 MB 380.7 kB/s eta 0:00:02\n",
            "   --------------------------------- ------ 2.9/3.4 MB 380.7 kB/s eta 0:00:02\n",
            "   ------------------------------------ --- 3.1/3.4 MB 357.5 kB/s eta 0:00:01\n",
            "   ------------------------------------ --- 3.1/3.4 MB 357.5 kB/s eta 0:00:01\n",
            "   ------------------------------------ --- 3.1/3.4 MB 357.5 kB/s eta 0:00:01\n",
            "   ------------------------------------ --- 3.1/3.4 MB 357.5 kB/s eta 0:00:01\n",
            "   ------------------------------------ --- 3.1/3.4 MB 357.5 kB/s eta 0:00:01\n",
            "   ------------------------------------ --- 3.1/3.4 MB 357.5 kB/s eta 0:00:01\n",
            "   ------------------------------------ --- 3.1/3.4 MB 357.5 kB/s eta 0:00:01\n",
            "   ------------------------------------ --- 3.1/3.4 MB 357.5 kB/s eta 0:00:01\n",
            "   ------------------------------------ --- 3.1/3.4 MB 357.5 kB/s eta 0:00:01\n",
            "   ------------------------------------ --- 3.1/3.4 MB 357.5 kB/s eta 0:00:01\n",
            "   ------------------------------------ --- 3.1/3.4 MB 357.5 kB/s eta 0:00:01\n",
            "   ---------------------------------------- 3.4/3.4 MB 299.5 kB/s eta 0:00:00\n",
            "Downloading cffi-1.17.1-cp313-cp313-win_amd64.whl (182 kB)\n",
            "Downloading pyspnego-0.11.2-py3-none-any.whl (130 kB)\n",
            "Downloading sspilib-0.3.1-cp313-cp313-win_amd64.whl (620 kB)\n",
            "   ---------------------------------------- 0.0/620.8 kB ? eta -:--:--\n",
            "   ---------------------------------------- 620.8/620.8 kB 3.5 MB/s eta 0:00:00\n",
            "Downloading typing_inspection-0.4.1-py3-none-any.whl (14 kB)\n",
            "Downloading pycparser-2.22-py3-none-any.whl (117 kB)\n",
            "Installing collected packages: urllib3, typing-inspection, sspilib, PyJWT, pydantic-core, pycparser, idna, charset_normalizer, certifi, annotated-types, requests, pydantic, cffi, ibm_cloud_sdk_core, cryptography, pyspnego, ibm-platform-services, requests-ntlm, qiskit-ibm-runtime\n",
            "\n",
            "   ----------------------------------------  0/19 [urllib3]\n",
            "   ----------------------------------------  0/19 [urllib3]\n",
            "   ----------------------------------------  0/19 [urllib3]\n",
            "   ----------------------------------------  0/19 [urllib3]\n",
            "   ----------------------------------------  0/19 [urllib3]\n",
            "   ----------------------------------------  0/19 [urllib3]\n",
            "   ---- -----------------------------------  2/19 [sspilib]\n",
            "   ------ ---------------------------------  3/19 [PyJWT]\n",
            "   ------ ---------------------------------  3/19 [PyJWT]\n",
            "   -------- -------------------------------  4/19 [pydantic-core]\n",
            "   ---------- -----------------------------  5/19 [pycparser]\n",
            "   ---------- -----------------------------  5/19 [pycparser]\n",
            "   ---------- -----------------------------  5/19 [pycparser]\n",
            "   ------------ ---------------------------  6/19 [idna]\n",
            "   -------------- -------------------------  7/19 [charset_normalizer]\n",
            "   -------------- -------------------------  7/19 [charset_normalizer]\n",
            "   -------------- -------------------------  7/19 [charset_normalizer]\n",
            "   --------------------- ------------------ 10/19 [requests]\n",
            "   --------------------- ------------------ 10/19 [requests]\n",
            "   --------------------- ------------------ 10/19 [requests]\n",
            "   ----------------------- ---------------- 11/19 [pydantic]\n",
            "   ----------------------- ---------------- 11/19 [pydantic]\n",
            "   ----------------------- ---------------- 11/19 [pydantic]\n",
            "   ----------------------- ---------------- 11/19 [pydantic]\n",
            "   ----------------------- ---------------- 11/19 [pydantic]\n",
            "   ----------------------- ---------------- 11/19 [pydantic]\n",
            "   ----------------------- ---------------- 11/19 [pydantic]\n",
            "   ----------------------- ---------------- 11/19 [pydantic]\n",
            "   ----------------------- ---------------- 11/19 [pydantic]\n",
            "   ----------------------- ---------------- 11/19 [pydantic]\n",
            "   ----------------------- ---------------- 11/19 [pydantic]\n",
            "   ----------------------- ---------------- 11/19 [pydantic]\n",
            "   ----------------------- ---------------- 11/19 [pydantic]\n",
            "   ----------------------- ---------------- 11/19 [pydantic]\n",
            "   ----------------------- ---------------- 11/19 [pydantic]\n",
            "   ----------------------- ---------------- 11/19 [pydantic]\n",
            "   ----------------------- ---------------- 11/19 [pydantic]\n",
            "   ------------------------- -------------- 12/19 [cffi]\n",
            "   ------------------------- -------------- 12/19 [cffi]\n",
            "   ------------------------- -------------- 12/19 [cffi]\n",
            "   --------------------------- ------------ 13/19 [ibm_cloud_sdk_core]\n",
            "   --------------------------- ------------ 13/19 [ibm_cloud_sdk_core]\n",
            "   --------------------------- ------------ 13/19 [ibm_cloud_sdk_core]\n",
            "   --------------------------- ------------ 13/19 [ibm_cloud_sdk_core]\n",
            "   --------------------------- ------------ 13/19 [ibm_cloud_sdk_core]\n",
            "   ----------------------------- ---------- 14/19 [cryptography]\n",
            "   ----------------------------- ---------- 14/19 [cryptography]\n",
            "   ----------------------------- ---------- 14/19 [cryptography]\n",
            "   ----------------------------- ---------- 14/19 [cryptography]\n",
            "   ----------------------------- ---------- 14/19 [cryptography]\n",
            "   ----------------------------- ---------- 14/19 [cryptography]\n",
            "   ----------------------------- ---------- 14/19 [cryptography]\n",
            "   ----------------------------- ---------- 14/19 [cryptography]\n",
            "   ------------------------------- -------- 15/19 [pyspnego]\n",
            "   ------------------------------- -------- 15/19 [pyspnego]\n",
            "   ------------------------------- -------- 15/19 [pyspnego]\n",
            "   ------------------------------- -------- 15/19 [pyspnego]\n",
            "   ------------------------------- -------- 15/19 [pyspnego]\n",
            "   --------------------------------- ------ 16/19 [ibm-platform-services]\n",
            "   --------------------------------- ------ 16/19 [ibm-platform-services]\n",
            "   --------------------------------- ------ 16/19 [ibm-platform-services]\n",
            "   --------------------------------- ------ 16/19 [ibm-platform-services]\n",
            "   --------------------------------- ------ 16/19 [ibm-platform-services]\n",
            "   --------------------------------- ------ 16/19 [ibm-platform-services]\n",
            "   --------------------------------- ------ 16/19 [ibm-platform-services]\n",
            "   --------------------------------- ------ 16/19 [ibm-platform-services]\n",
            "   ------------------------------------- -- 18/19 [qiskit-ibm-runtime]\n",
            "   ------------------------------------- -- 18/19 [qiskit-ibm-runtime]\n",
            "   ------------------------------------- -- 18/19 [qiskit-ibm-runtime]\n",
            "   ------------------------------------- -- 18/19 [qiskit-ibm-runtime]\n",
            "   ------------------------------------- -- 18/19 [qiskit-ibm-runtime]\n",
            "   ------------------------------------- -- 18/19 [qiskit-ibm-runtime]\n",
            "   ------------------------------------- -- 18/19 [qiskit-ibm-runtime]\n",
            "   ------------------------------------- -- 18/19 [qiskit-ibm-runtime]\n",
            "   ------------------------------------- -- 18/19 [qiskit-ibm-runtime]\n",
            "   ------------------------------------- -- 18/19 [qiskit-ibm-runtime]\n",
            "   ------------------------------------- -- 18/19 [qiskit-ibm-runtime]\n",
            "   ------------------------------------- -- 18/19 [qiskit-ibm-runtime]\n",
            "   ------------------------------------- -- 18/19 [qiskit-ibm-runtime]\n",
            "   ------------------------------------- -- 18/19 [qiskit-ibm-runtime]\n",
            "   ------------------------------------- -- 18/19 [qiskit-ibm-runtime]\n",
            "   ------------------------------------- -- 18/19 [qiskit-ibm-runtime]\n",
            "   ------------------------------------- -- 18/19 [qiskit-ibm-runtime]\n",
            "   ------------------------------------- -- 18/19 [qiskit-ibm-runtime]\n",
            "   ------------------------------------- -- 18/19 [qiskit-ibm-runtime]\n",
            "   ------------------------------------- -- 18/19 [qiskit-ibm-runtime]\n",
            "   ------------------------------------- -- 18/19 [qiskit-ibm-runtime]\n",
            "   ------------------------------------- -- 18/19 [qiskit-ibm-runtime]\n",
            "   ------------------------------------- -- 18/19 [qiskit-ibm-runtime]\n",
            "   ------------------------------------- -- 18/19 [qiskit-ibm-runtime]\n",
            "   ------------------------------------- -- 18/19 [qiskit-ibm-runtime]\n",
            "   ------------------------------------- -- 18/19 [qiskit-ibm-runtime]\n",
            "   ------------------------------------- -- 18/19 [qiskit-ibm-runtime]\n",
            "   ------------------------------------- -- 18/19 [qiskit-ibm-runtime]\n",
            "   ------------------------------------- -- 18/19 [qiskit-ibm-runtime]\n",
            "   ------------------------------------- -- 18/19 [qiskit-ibm-runtime]\n",
            "   ---------------------------------------- 19/19 [qiskit-ibm-runtime]\n",
            "\n",
            "Successfully installed PyJWT-2.10.1 annotated-types-0.7.0 certifi-2025.7.14 cffi-1.17.1 charset_normalizer-3.4.2 cryptography-45.0.5 ibm-platform-services-0.68.1 ibm_cloud_sdk_core-3.24.2 idna-3.10 pycparser-2.22 pydantic-2.11.7 pydantic-core-2.33.2 pyspnego-0.11.2 qiskit-ibm-runtime-0.40.1 requests-2.32.4 requests-ntlm-1.3.0 sspilib-0.3.1 typing-inspection-0.4.1 urllib3-2.5.0\n",
            "Note: you may need to restart the kernel to use updated packages.\n"
          ]
        },
        {
          "name": "stderr",
          "output_type": "stream",
          "text": [
            "WARNING: Retrying (Retry(total=4, connect=None, read=None, redirect=None, status=None)) after connection broken by 'ReadTimeoutError(\"HTTPSConnectionPool(host='files.pythonhosted.org', port=443): Read timed out. (read timeout=15)\")': /packages/7c/fc/6a8cb64e5f0324877d503c854da15d76c1e50eb722e320b15345c4d0c6de/cffi-1.17.1-cp313-cp313-win_amd64.whl\n"
          ]
        }
      ],
      "source": [
        "%pip install qiskit-ibm-runtime"
      ]
    },
    {
      "cell_type": "code",
      "execution_count": 17,
      "metadata": {
        "id": "YRkPOzZhBtoQ"
      },
      "outputs": [],
      "source": [
        "import numpy as np\n",
        "import matplotlib.pyplot as plt\n",
        "\n",
        "from qiskit import QuantumCircuit, QuantumRegister, ClassicalRegister\n",
        "from qiskit.circuit import Parameter\n",
        "from qiskit.visualization import plot_histogram, plot_distribution\n",
        "from qiskit.result import marginal_distribution\n",
        "from qiskit_ibm_runtime import Options, Session, SamplerV2 as Sampler\n",
        "from qiskit_ibm_runtime import QiskitRuntimeService\n",
        "\n",
        "from qiskit.transpiler import generate_preset_pass_manager\n",
        "from qiskit_aer import AerSimulator\n",
        "\n",
        "import pylatexenc"
      ]
    },
    {
      "cell_type": "code",
      "execution_count": 18,
      "metadata": {
        "id": "yzMN0_miB34p"
      },
      "outputs": [],
      "source": [
        "particle = QuantumRegister(1, name='particle')\n",
        "screen = ClassicalRegister(1, name='screen')"
      ]
    },
    {
      "cell_type": "code",
      "execution_count": 19,
      "metadata": {
        "id": "DMDaiIFKAJiN"
      },
      "outputs": [],
      "source": [
        "theta = Parameter('θ')"
      ]
    },
    {
      "cell_type": "code",
      "execution_count": 20,
      "metadata": {
        "colab": {
          "base_uri": "https://localhost:8080/"
        },
        "id": "JZGaPkwKAMio",
        "outputId": "84f17a22-04b4-46e8-cf48-d1baf4958f70"
      },
      "outputs": [
        {
          "data": {
            "text/plain": [
              "<qiskit.circuit.instructionset.InstructionSet at 0x17df4135a80>"
            ]
          },
          "execution_count": 20,
          "metadata": {},
          "output_type": "execute_result"
        }
      ],
      "source": [
        "double_slit = QuantumCircuit(particle, screen)\n",
        "double_slit.h(particle)\n",
        "double_slit.barrier()\n",
        "double_slit.p(theta, particle)\n",
        "double_slit.barrier()\n",
        "double_slit.h(particle)"
      ]
    },
    {
      "cell_type": "code",
      "execution_count": 21,
      "metadata": {
        "colab": {
          "base_uri": "https://localhost:8080/",
          "height": 191
        },
        "id": "aZAeOEwvATN7",
        "outputId": "5ebbe999-df4c-4b07-d063-0a53af92237e"
      },
      "outputs": [
        {
          "data": {
            "image/png": "[encoded data removed]",
            "text/plain": [
              "<Figure size 611.242x200.667 with 1 Axes>"
            ]
          },
          "execution_count": 21,
          "metadata": {},
          "output_type": "execute_result"
        }
      ],
      "source": [
        "double_slit.draw('mpl', style = 'clifford')"
      ]
    },
    {
      "cell_type": "code",
      "execution_count": 22,
      "metadata": {
        "colab": {
          "base_uri": "https://localhost:8080/",
          "height": 191
        },
        "id": "C4vh8z7xAhaJ",
        "outputId": "d6f54a3b-4578-41f3-a710-a5265745db95"
      },
      "outputs": [
        {
          "data": {
            "image/png": "[encoded data removed]",
            "text/plain": [
              "<Figure size 778.465x200.667 with 1 Axes>"
            ]
          },
          "execution_count": 22,
          "metadata": {},
          "output_type": "execute_result"
        }
      ],
      "source": [
        "double_slit.barrier()\n",
        "double_slit.measure(particle, screen)\n",
        "double_slit.draw('mpl', style = 'clifford')"
      ]
    },
    {
      "cell_type": "code",
      "execution_count": 23,
      "metadata": {
        "id": "p99lhCZnCL8H"
      },
      "outputs": [],
      "source": [
        "backend = AerSimulator()\n",
        "sampler = Sampler(mode=backend)"
      ]
    },
    {
      "cell_type": "code",
      "execution_count": 24,
      "metadata": {
        "colab": {
          "base_uri": "https://localhost:8080/"
        },
        "id": "jrth7fnJA3vH",
        "outputId": "a4ef1b74-06ec-4e99-9531-eee32c2b7d6e"
      },
      "outputs": [
        {
          "name": "stdout",
          "output_type": "stream",
          "text": [
            "[1.0, 0.9998, 0.9992, 0.9988, 0.9976, 0.9966, 0.9948, 0.9938, 0.9896, 0.9868, 0.9855, 0.9807, 0.9767, 0.9751, 0.9683, 0.9641, 0.9619, 0.9532, 0.9509, 0.946, 0.9375, 0.9317, 0.9275, 0.9188, 0.9116, 0.9063, 0.8949, 0.887, 0.8735, 0.8723, 0.8674, 0.8571, 0.8428, 0.8388, 0.8293, 0.8263, 0.8081, 0.7961, 0.7924, 0.7781, 0.7671, 0.7599, 0.7451, 0.7353, 0.7149, 0.7145, 0.6998, 0.6864, 0.6821, 0.6735, 0.6668, 0.6414, 0.6421, 0.6164, 0.6004, 0.5941, 0.5767, 0.5739, 0.5593, 0.5381, 0.5197, 0.5138, 0.507, 0.4992, 0.4845, 0.463, 0.4486, 0.4345, 0.4253, 0.4178, 0.4063, 0.3943, 0.3767, 0.3672, 0.3624, 0.345, 0.3298, 0.3249, 0.2982, 0.2839, 0.2788, 0.2702, 0.2669, 0.2597, 0.2454, 0.2383, 0.2123, 0.2123, 0.1988, 0.1924, 0.1827, 0.1717, 0.166, 0.1613, 0.1482, 0.1386, 0.1244, 0.115, 0.1066, 0.1067, 0.0973, 0.0871, 0.077, 0.0796, 0.0657, 0.0636, 0.0501, 0.0508, 0.0491, 0.0393, 0.0343, 0.029, 0.0245, 0.0206, 0.0186, 0.0144, 0.0121, 0.0122, 0.009, 0.0049, 0.0055, 0.0029, 0.0013, 0.0005, 0, 0, 0.0001, 0.0005, 0.0009, 0.0019, 0.0043, 0.0076, 0.0081, 0.01, 0.0158, 0.0178, 0.02, 0.021, 0.0226, 0.0325, 0.0359, 0.0422, 0.0445, 0.0505, 0.0553, 0.0612, 0.0685, 0.0766, 0.0825, 0.0856, 0.0955, 0.0988, 0.1123, 0.1228, 0.1288, 0.1406, 0.1522, 0.1497, 0.1667, 0.1712, 0.1822, 0.1951, 0.2102, 0.2066, 0.2168, 0.2283, 0.2412, 0.254, 0.2657, 0.2782, 0.2957, 0.3051, 0.3125, 0.3202, 0.3361, 0.3554, 0.3584, 0.3716, 0.3857, 0.4029, 0.4053, 0.4267, 0.4348, 0.4451, 0.4644, 0.4704, 0.4751, 0.5024, 0.508, 0.5178, 0.5345, 0.5542, 0.5545, 0.5671, 0.581, 0.5958, 0.6075, 0.63, 0.6384, 0.6542, 0.6571, 0.6665, 0.6863, 0.697, 0.7036, 0.7155, 0.7286, 0.7314, 0.7445, 0.7531, 0.7747, 0.7794, 0.7957, 0.803, 0.8117, 0.8224, 0.8301, 0.8385, 0.8494, 0.8575, 0.8655, 0.8682, 0.8805, 0.8916, 0.8981, 0.9028, 0.9177, 0.9208, 0.9269, 0.9336, 0.9387, 0.9423, 0.9498, 0.9574, 0.9628, 0.9685, 0.9682, 0.9729, 0.9778, 0.9818, 0.9836, 0.9894, 0.9904, 0.9923, 0.996, 0.9966, 0.9977, 0.9985, 0.9994, 1.0, 1.0, 0.9999, 0.9993, 0.998, 0.9973, 0.9956, 0.9938, 0.9926, 0.9887, 0.9855, 0.984, 0.9786, 0.978, 0.9716, 0.9651, 0.9642, 0.9579, 0.9537, 0.9473, 0.9403, 0.9334, 0.929, 0.9215, 0.914, 0.9089, 0.9006, 0.8893, 0.8889, 0.8752, 0.8708, 0.8547, 0.8515, 0.8488, 0.8397, 0.8229, 0.8109, 0.8032, 0.794, 0.7923, 0.7754, 0.7633, 0.7603, 0.7393, 0.7328, 0.7109, 0.7056, 0.6971, 0.6806, 0.673, 0.6562, 0.6424, 0.6352, 0.6254, 0.6099, 0.6111, 0.5912, 0.5666, 0.5591, 0.5499, 0.5363, 0.5279, 0.5092, 0.4952, 0.4904, 0.4844, 0.4662, 0.4564, 0.4368, 0.4194, 0.4144, 0.4001, 0.3886, 0.3731, 0.3645, 0.3557, 0.3499, 0.3342, 0.3077, 0.3076, 0.2904, 0.2841, 0.2719, 0.2669, 0.2455, 0.2375, 0.2299, 0.2153, 0.2041, 0.1972, 0.1813, 0.1723, 0.1674, 0.1624, 0.1504, 0.1365, 0.1318, 0.1219, 0.1089, 0.1059, 0.1009, 0.0969, 0.0889, 0.078, 0.0726, 0.0711, 0.0579, 0.0529, 0.054, 0.0426, 0.0378, 0.0328, 0.0281, 0.0253, 0.0223, 0.0178, 0.0154, 0.0116, 0.0086, 0.0068, 0.0047, 0.0033, 0.0022, 0.0016, 0.0002, 0.0002, 0, 0.0004, 0.0007, 0.001, 0.0039, 0.0056, 0.0071, 0.0096, 0.0104, 0.0152, 0.0172, 0.0207, 0.024, 0.0267, 0.0331, 0.0374, 0.0388, 0.046, 0.0515, 0.06, 0.0654, 0.07, 0.0821, 0.084, 0.091, 0.1004, 0.1045, 0.1127, 0.1257, 0.1324, 0.136, 0.1484, 0.1614, 0.163, 0.174, 0.1839, 0.1938, 0.1982, 0.2159, 0.2281, 0.2363, 0.2428, 0.2582, 0.2622, 0.2808, 0.2913, 0.2958, 0.3114, 0.3217, 0.3441, 0.3466, 0.3519, 0.3705, 0.3881, 0.3988, 0.4176, 0.4235, 0.4442, 0.4543, 0.4653, 0.4796, 0.4838, 0.4964, 0.5116, 0.5312, 0.5376, 0.5436, 0.5634, 0.5744, 0.5893, 0.6023, 0.6124, 0.6204, 0.6267, 0.6385, 0.6526, 0.6748, 0.684, 0.6926, 0.6997, 0.7154, 0.7309, 0.7408, 0.7474, 0.762, 0.7636, 0.7816, 0.7929, 0.8106, 0.8053, 0.8189, 0.8348, 0.8432, 0.8517, 0.8535, 0.863, 0.8781, 0.8842, 0.8917, 0.8997, 0.9107, 0.921, 0.9257, 0.9245, 0.9387, 0.9394, 0.9465, 0.9554, 0.9605, 0.9633, 0.9689, 0.9675, 0.9789, 0.9781, 0.9835, 0.9864, 0.9892, 0.99, 0.9927, 0.9953, 0.9975, 0.9976, 0.9989, 0.9995, 1.0, 0.9999, 0.9996, 0.999, 0.9988, 0.9961, 0.9958, 0.9931, 0.9922, 0.9886, 0.9846, 0.9822, 0.9824, 0.9773, 0.9722, 0.9678, 0.9639, 0.9571, 0.9497, 0.946, 0.9365, 0.9325, 0.9285, 0.9246, 0.9157, 0.9067, 0.9017, 0.8935, 0.886, 0.8753, 0.8669, 0.8633, 0.8516, 0.8429, 0.8296, 0.8223, 0.8207, 0.8036, 0.7942, 0.7788, 0.7732, 0.7641, 0.7507, 0.7338, 0.7257, 0.7205, 0.7112, 0.6917, 0.676, 0.6742, 0.6591, 0.6566, 0.6244, 0.6274, 0.6114, 0.6049, 0.5889, 0.576, 0.5612, 0.5454, 0.5414, 0.5293, 0.5115, 0.5042, 0.4859, 0.4863, 0.4588, 0.4527, 0.4361, 0.421, 0.4084, 0.4021, 0.3808, 0.3713, 0.3678, 0.3539, 0.3365, 0.3318, 0.3109, 0.3053, 0.2892, 0.2793, 0.2707, 0.2605, 0.2427, 0.2294, 0.225, 0.2152, 0.205, 0.1921, 0.1872, 0.1735, 0.1749, 0.1563, 0.1465, 0.1402, 0.1297, 0.1311, 0.1142, 0.101, 0.1, 0.0889, 0.085, 0.0742, 0.0672, 0.0673, 0.0576, 0.0516, 0.0495, 0.0373, 0.0392, 0.0344, 0.0279, 0.0203, 0.02, 0.0183, 0.0138, 0.0125, 0.0082, 0.0053, 0.004, 0.0026, 0.0022, 0.0008, 0.0001, 0, 0, 0.0002, 0.0011, 0.0021, 0.0037, 0.0042, 0.0073, 0.0102, 0.011, 0.014, 0.0152, 0.0213, 0.0277, 0.0286, 0.03, 0.0326, 0.0455, 0.0496, 0.0559, 0.0565, 0.069, 0.0729, 0.0806, 0.089, 0.0958, 0.1045, 0.1036, 0.1175, 0.1261, 0.1357, 0.1355, 0.1449, 0.1571, 0.1703, 0.1822, 0.1865, 0.2046, 0.2084, 0.2146, 0.2253, 0.2385, 0.2524, 0.2561, 0.2798, 0.2871, 0.2934, 0.3091, 0.3195, 0.3311, 0.3484, 0.349, 0.3607, 0.377, 0.3926, 0.3989, 0.4179, 0.4347, 0.4395, 0.4534, 0.4608, 0.4763, 0.4923, 0.5086, 0.52, 0.5171, 0.5464, 0.5595, 0.5659, 0.578, 0.5819, 0.6035, 0.6159, 0.6335, 0.6459, 0.6484, 0.6653, 0.6781, 0.6863, 0.7024, 0.7115, 0.7286, 0.7228, 0.7434, 0.7553, 0.7588, 0.783, 0.7841, 0.7958, 0.8045, 0.8138, 0.8281, 0.8349, 0.8482, 0.848, 0.8649, 0.8659, 0.8824, 0.891, 0.8999, 0.9067, 0.9144, 0.9181, 0.92, 0.9319, 0.9355, 0.9416, 0.9463, 0.9534, 0.9605, 0.9635, 0.9693, 0.9712, 0.979, 0.9814, 0.9816, 0.987, 0.9907, 0.9926, 0.9929, 0.9956, 0.9978, 0.9987, 0.9996, 0.9999, 1.0, 0.9998, 0.9998, 0.9981, 0.9982, 0.9958, 0.9953, 0.991, 0.9899, 0.9893, 0.985, 0.9826, 0.9795, 0.9735, 0.9712, 0.9662, 0.9623, 0.9523, 0.9485, 0.9452, 0.939, 0.9323, 0.9313, 0.9228, 0.918, 0.9027, 0.8947, 0.8886, 0.8837, 0.8745, 0.8687, 0.861, 0.8549, 0.8386, 0.8322, 0.8209, 0.8094, 0.7997, 0.7913, 0.7791, 0.7689, 0.7627, 0.7579, 0.7544, 0.7291, 0.7142, 0.7, 0.6891, 0.675, 0.6708, 0.6484, 0.6501, 0.6335, 0.6159, 0.5986, 0.5955, 0.5802, 0.5737, 0.5554, 0.5454, 0.5355, 0.521, 0.5109, 0.492, 0.4814, 0.4752, 0.4445, 0.4507, 0.4305, 0.4175, 0.4158, 0.3895, 0.3836, 0.3726, 0.3686, 0.3527, 0.3305, 0.3211, 0.3184, 0.2992, 0.2831, 0.2777, 0.2613, 0.2551, 0.2481, 0.2337, 0.2196, 0.2125, 0.2, 0.1991, 0.1832, 0.1708, 0.1633, 0.1578, 0.1406, 0.1363, 0.1261, 0.1152, 0.1072, 0.1049, 0.0911, 0.0935, 0.0803, 0.074, 0.0676, 0.0639, 0.0561, 0.0504, 0.0472, 0.0374, 0.034, 0.03, 0.0245, 0.0267, 0.0178, 0.0158, 0.0123, 0.0109, 0.0084, 0.0055, 0.0049, 0.0026, 0.0015, 0.0012, 0.0001, 0, 0, 0.0004, 0.0012, 0.0033, 0.0042, 0.0045, 0.0069, 0.0076, 0.0112, 0.0176, 0.0183, 0.021, 0.0254, 0.0306, 0.0375, 0.0404, 0.0419, 0.0458, 0.0519, 0.062, 0.0641, 0.0727, 0.0791, 0.0863, 0.0908, 0.108, 0.1054, 0.1149, 0.1283, 0.1338, 0.1413, 0.1537, 0.1645, 0.1628, 0.1741, 0.1831, 0.2037, 0.2123, 0.2153, 0.2299, 0.2394, 0.2585, 0.2652, 0.2757, 0.2838, 0.2967, 0.3077, 0.3175, 0.3223, 0.3466, 0.3508, 0.3738, 0.3764, 0.3935, 0.4109, 0.4174, 0.4304, 0.4461, 0.4621, 0.4703, 0.4835, 0.4811, 0.5081, 0.5151, 0.5231, 0.5442, 0.5506, 0.5687, 0.5787, 0.5866, 0.6081, 0.6145, 0.6301, 0.6344, 0.6596, 0.6642, 0.6753, 0.6876, 0.7, 0.7069, 0.7293, 0.73, 0.7418, 0.7555, 0.767, 0.7762, 0.7869, 0.7903, 0.8082, 0.8198, 0.8247, 0.8349, 0.8455, 0.8531, 0.8626, 0.8709, 0.8765, 0.887, 0.8941, 0.9069, 0.9152, 0.9144, 0.9236, 0.9324, 0.9356, 0.9431, 0.9481, 0.9584, 0.9599, 0.9638, 0.9712, 0.9744, 0.9784, 0.9829, 0.985, 0.986, 0.9924, 0.9919, 0.9936, 0.995, 0.9967, 0.9988, 0.9996, 1.0, 1.0]\n"
          ]
        }
      ],
      "source": [
        "theta_list = np.linspace(-4*np.pi, 4*np.pi, 1000)\n",
        "pm = generate_preset_pass_manager(backend = AerSimulator(), optimization_level=3)\n",
        "qc_isa = pm.run(double_slit)\n",
        "dist = sampler.run([(qc_isa, theta_list)], shots = 10000).result()[0].data.screen\n",
        "\n",
        "probability = []\n",
        "\n",
        "for i in range(len(theta_list)):\n",
        "  result = dist[i].get_counts()\n",
        "  if '0' in result:\n",
        "    p = result['0']/10000\n",
        "    probability.append(p)\n",
        "  else:\n",
        "    probability.append(0)\n",
        "\n",
        "print(probability)"
      ]
    },
    {
      "cell_type": "code",
      "execution_count": 25,
      "metadata": {
        "colab": {
          "base_uri": "https://localhost:8080/",
          "height": 244
        },
        "id": "oU9ypNaMDaSo",
        "outputId": "fa8a3c98-682f-4045-d69b-c7893f75644c"
      },
      "outputs": [
        {
          "data": {
            "image/png": "[encoded data removed]",
            "text/plain": [
              "<Figure size 1000x200 with 2 Axes>"
            ]
          },
          "metadata": {},
          "output_type": "display_data"
        }
      ],
      "source": [
        "plt.figure(figsize=(10, 2))\n",
        "probability_2d = np.array(probability).reshape(1, 1000)\n",
        "plt.imshow(probability_2d, cmap='gray', aspect='auto', extent=[-4*np.pi, 4*np.pi, 0, 1])\n",
        "\n",
        "plt.xlabel('φ (Phase difference)', fontsize=14)\n",
        "plt.colorbar(label='prob')\n",
        "plt.xticks(ticks=[-4*np.pi, -3*np.pi, -2*np.pi, -np.pi, 0, np.pi, 2*np.pi, 3*np.pi, 4*np.pi],\n",
        "           labels=['-4π', '-3π', '-2π', '-π', '0', 'π', '2π', '3π', '4π'])\n",
        "plt.yticks([])\n",
        "plt.show()"
      ]
    },
    {
      "cell_type": "code",
      "execution_count": null,
      "metadata": {
        "id": "Ei_QoQQBE_gq"
      },
      "outputs": [],
      "source": []
    }
  ],
  "metadata": {
    "colab": {
      "provenance": []
    },
    "kernelspec": {
      "display_name": "Python 3",
      "name": "python3"
    },
    "language_info": {
      "codemirror_mode": {
        "name": "ipython",
        "version": 3
      },
      "file_extension": ".py",
      "mimetype": "text/x-python",
      "name": "python",
      "nbconvert_exporter": "python",
      "pygments_lexer": "ipython3",
      "version": "3.13.5"
    }
  },
  "nbformat": 4,
  "nbformat_minor": 0
}
